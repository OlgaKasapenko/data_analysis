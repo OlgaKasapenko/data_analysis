{
  "cells": [
    {
      "cell_type": "markdown",
      "id": "6eaad4c7",
      "metadata": {
        "id": "6eaad4c7"
      },
      "source": [
        "# <a href=\"https://miptstats.github.io/courses/ad_fivt.html\">Введение в анализ данных</a>\n",
        "## Домашнее задание 6. Основы обработки текстов\n"
      ]
    },
    {
      "cell_type": "markdown",
      "id": "7622f90a",
      "metadata": {
        "id": "7622f90a"
      },
      "source": [
        "**Правила, <font color=\"red\">прочитайте внимательно</font>:**\n",
        "\n",
        "* Выполненную работу нужно отправить телеграм-боту `@miptstats_ds24_bot`. Для начала работы с ботом каждый раз отправляйте `/start`. **Работы, присланные иным способом, не принимаются.**\n",
        "* Дедлайн см. в боте. После дедлайна работы не принимаются кроме случаев наличия уважительной причины.\n",
        "* Прислать нужно **ноутбук в формате `ipynb`**.\n",
        "* Следите за размером файлов. **Бот не может принимать файлы весом более 20 Мб.** Если файл получается больше, заранее разделите его на несколько.\n",
        "* Выполнять задание необходимо полностью самостоятельно. **При обнаружении списывания все участники списывания будут сдавать устный зачет.**\n",
        "* Решения, размещенные на каких-либо интернет-ресурсах, не принимаются. Кроме того, публикация решения в открытом доступе может быть приравнена к предоставлении возможности списать.\n",
        "* Для выполнения задания используйте этот ноутбук в качестве основы, ничего не удаляя из него. Можно добавлять необходимое количество ячеек.\n",
        "* Комментарии к решению пишите в markdown-ячейках.\n",
        "* Выполнение задания (ход решения, выводы и пр.) должно быть осуществлено на русском языке.\n",
        "* Если код будет не понятен проверяющему, оценка может быть снижена.\n",
        "* Никакой код из данного задания при проверке запускаться не будет. *Если код студента не выполнен, недописан и т.д., то он не оценивается.*\n",
        "\n",
        "\n",
        "**Баллы за задание:**\n",
        "\n",
        "* Задача 1 &mdash; 100 баллов\n",
        "* Задача 2 &mdash; 50 баллов\n",
        "\n",
        "Баллы учитываются в <b><font color=\"green\">факультативной части</font></b> курса и не влияют на оценку по основной части."
      ]
    },
    {
      "cell_type": "code",
      "execution_count": null,
      "id": "3431050d",
      "metadata": {
        "id": "3431050d"
      },
      "outputs": [],
      "source": [
        "# Bot check\n",
        "\n",
        "# HW_ID: fpmi_ad6\n",
        "# Бот проверит этот ID и предупредит, если случайно сдать что-то не то.\n",
        "\n",
        "# Status: not final\n",
        "# Перед отправкой в финальном решении удали \"not\" в строчке выше.\n",
        "# Так бот проверит, что ты отправляешь финальную версию, а не промежуточную.\n",
        "# Никакие значения в этой ячейке не влияют на факт сдачи работы."
      ]
    },
    {
      "cell_type": "code",
      "execution_count": null,
      "id": "2ee3e8d8",
      "metadata": {
        "colab": {
          "base_uri": "https://localhost:8080/"
        },
        "id": "2ee3e8d8",
        "outputId": "77db8a29-bf0a-4b8b-d5bc-e8c4eeb748c9"
      },
      "outputs": [
        {
          "output_type": "stream",
          "name": "stderr",
          "text": [
            "[nltk_data] Downloading package stopwords to /root/nltk_data...\n",
            "[nltk_data]   Unzipping corpora/stopwords.zip.\n"
          ]
        }
      ],
      "source": [
        "import time\n",
        "import numpy as np\n",
        "import pandas as pd\n",
        "from tqdm import tqdm\n",
        "from string import punctuation\n",
        "import matplotlib.pyplot as plt\n",
        "from collections import Counter, OrderedDict\n",
        "from IPython.display import clear_output\n",
        "\n",
        "import torch\n",
        "import torch.nn as nn\n",
        "import torch.nn.functional as F\n",
        "from torch.utils.data import DataLoader, Dataset\n",
        "from torch.nn.utils.rnn import pad_sequence\n",
        "\n",
        "from sklearn.model_selection import train_test_split\n",
        "from sklearn.preprocessing import MinMaxScaler\n",
        "from sklearn.model_selection import train_test_split\n",
        "\n",
        "import torchtext\n",
        "from torchtext.data.utils import get_tokenizer\n",
        "\n",
        "import seaborn as sns\n",
        "\n",
        "sns.set(palette=\"Set2\")\n",
        "sns.set_style(\"whitegrid\")\n",
        "\n",
        "import nltk\n",
        "\n",
        "nltk.download(\"stopwords\")\n",
        "\n",
        "device = (\n",
        "    \"mps\"\n",
        "    if torch.backends.mps.is_available()\n",
        "    else \"cuda\" if torch.cuda.is_available() else \"cpu\"\n",
        ")"
      ]
    },
    {
      "cell_type": "markdown",
      "id": "f2a21b25",
      "metadata": {
        "id": "f2a21b25"
      },
      "source": [
        "Перед выполнением задания обязательно посмотрите <a href=\"https://miptstats.github.io/courses/ad_fivt/lecture6.pdf\" target=\"_blank\">презентацию</a>, [ноутбук](https://miptstats.github.io/courses/ad_fivt/nlp_sem.html) по RNN и [ноутбук](https://miptstats.github.io/courses/ad_fivt/nlp_sem_llama.html) по генерации текста."
      ]
    },
    {
      "cell_type": "markdown",
      "id": "9045cb13",
      "metadata": {
        "id": "9045cb13"
      },
      "source": [
        "---\n",
        "### Задача 1. Предсказание заработной платы\n"
      ]
    },
    {
      "cell_type": "markdown",
      "id": "66815083",
      "metadata": {
        "id": "66815083"
      },
      "source": [
        "В этой задаче вам предлагается решить задачу регрессии &mdash; по текстовому описанию вакансии определить заработную плату. Для решения такой задачи можно применять различные методы, в том числе и те, которые были рассмотрены на лекции.\n",
        "Мы будем решать эту задачу с помощью рекуррентной нейронной сети."
      ]
    },
    {
      "cell_type": "markdown",
      "id": "f1fc7637",
      "metadata": {
        "id": "f1fc7637"
      },
      "source": [
        "Датасет `salary_dataset.csv` лежит по <a target=\"_blank\" href=\"https://drive.google.com/file/d/1Q3lCw_8Uad_OzHCjvLeYRvamXR74UPbW/view?usp=sharing\">ссылке</a> (312.3 MB).\n",
        "\n",
        "Если вы работаете локально:\n",
        "\n",
        "> Просто скачайте этот файл и укажите пути к ним ниже.\n",
        "\n",
        "\n",
        "Если вы используете <a target=\"_blank\" href=\"https://colab.research.google.com/\">Colab</a>:\n",
        "> **Скачивать файл не обязательно**. Просто подключитесь к Google Drive:\n",
        ">\n",
        "> ```\n",
        "> from google.colab import drive\n",
        "> drive.mount('/content/drive/')\n",
        "> ```\n",
        ">\n",
        "> Перейдите по ссылке файла и добавьте shortcut на него в ваш собственный диск:\n",
        "> ![Screen Shot 2024-03-17 at 5.34.40 PM.png](data:image/png;base64,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)"
      ]
    },
    {
      "cell_type": "code",
      "source": [
        "from google.colab import drive\n",
        "drive.mount('/content/drive')"
      ],
      "metadata": {
        "colab": {
          "base_uri": "https://localhost:8080/"
        },
        "id": "hkDiRjgCsmDN",
        "outputId": "a13c83f1-2569-4a07-a267-a3883d28d0eb"
      },
      "id": "hkDiRjgCsmDN",
      "execution_count": null,
      "outputs": [
        {
          "output_type": "stream",
          "name": "stdout",
          "text": [
            "Mounted at /content/drive\n"
          ]
        }
      ]
    },
    {
      "cell_type": "markdown",
      "id": "a2f8e4ae",
      "metadata": {
        "id": "a2f8e4ae"
      },
      "source": [
        "Скачаем данные для обучения и тестирования:"
      ]
    },
    {
      "cell_type": "code",
      "execution_count": null,
      "id": "04bee2a7",
      "metadata": {
        "id": "04bee2a7",
        "colab": {
          "base_uri": "https://localhost:8080/",
          "height": 206
        },
        "outputId": "8ab4dbd4-4b4f-4392-dfcf-d7377efab1c8"
      },
      "outputs": [
        {
          "output_type": "execute_result",
          "data": {
            "text/plain": [
              "                                     FullDescription  SalaryNormalized\n",
              "0  This is an exciting opportunity for a Recruite...             55000\n",
              "1  Our client is looking for a .net web developer...             27500\n",
              "2  MS SQL Database Administrator  Helsinki, Finla...             72098\n",
              "3  ACADEMIC APPOINTMENTS A large secondary school...             32400\n",
              "4  Head of User Experience  c. ****k / London A H...             67500"
            ],
            "text/html": [
              "\n",
              "  <div id=\"df-c52fdfa1-1b23-482d-a4dd-a25851c9ca3e\" class=\"colab-df-container\">\n",
              "    <div>\n",
              "<style scoped>\n",
              "    .dataframe tbody tr th:only-of-type {\n",
              "        vertical-align: middle;\n",
              "    }\n",
              "\n",
              "    .dataframe tbody tr th {\n",
              "        vertical-align: top;\n",
              "    }\n",
              "\n",
              "    .dataframe thead th {\n",
              "        text-align: right;\n",
              "    }\n",
              "</style>\n",
              "<table border=\"1\" class=\"dataframe\">\n",
              "  <thead>\n",
              "    <tr style=\"text-align: right;\">\n",
              "      <th></th>\n",
              "      <th>FullDescription</th>\n",
              "      <th>SalaryNormalized</th>\n",
              "    </tr>\n",
              "  </thead>\n",
              "  <tbody>\n",
              "    <tr>\n",
              "      <th>0</th>\n",
              "      <td>This is an exciting opportunity for a Recruite...</td>\n",
              "      <td>55000</td>\n",
              "    </tr>\n",
              "    <tr>\n",
              "      <th>1</th>\n",
              "      <td>Our client is looking for a .net web developer...</td>\n",
              "      <td>27500</td>\n",
              "    </tr>\n",
              "    <tr>\n",
              "      <th>2</th>\n",
              "      <td>MS SQL Database Administrator  Helsinki, Finla...</td>\n",
              "      <td>72098</td>\n",
              "    </tr>\n",
              "    <tr>\n",
              "      <th>3</th>\n",
              "      <td>ACADEMIC APPOINTMENTS A large secondary school...</td>\n",
              "      <td>32400</td>\n",
              "    </tr>\n",
              "    <tr>\n",
              "      <th>4</th>\n",
              "      <td>Head of User Experience  c. ****k / London A H...</td>\n",
              "      <td>67500</td>\n",
              "    </tr>\n",
              "  </tbody>\n",
              "</table>\n",
              "</div>\n",
              "    <div class=\"colab-df-buttons\">\n",
              "\n",
              "  <div class=\"colab-df-container\">\n",
              "    <button class=\"colab-df-convert\" onclick=\"convertToInteractive('df-c52fdfa1-1b23-482d-a4dd-a25851c9ca3e')\"\n",
              "            title=\"Convert this dataframe to an interactive table.\"\n",
              "            style=\"display:none;\">\n",
              "\n",
              "  <svg xmlns=\"http://www.w3.org/2000/svg\" height=\"24px\" viewBox=\"0 -960 960 960\">\n",
              "    <path d=\"M120-120v-720h720v720H120Zm60-500h600v-160H180v160Zm220 220h160v-160H400v160Zm0 220h160v-160H400v160ZM180-400h160v-160H180v160Zm440 0h160v-160H620v160ZM180-180h160v-160H180v160Zm440 0h160v-160H620v160Z\"/>\n",
              "  </svg>\n",
              "    </button>\n",
              "\n",
              "  <style>\n",
              "    .colab-df-container {\n",
              "      display:flex;\n",
              "      gap: 12px;\n",
              "    }\n",
              "\n",
              "    .colab-df-convert {\n",
              "      background-color: #E8F0FE;\n",
              "      border: none;\n",
              "      border-radius: 50%;\n",
              "      cursor: pointer;\n",
              "      display: none;\n",
              "      fill: #1967D2;\n",
              "      height: 32px;\n",
              "      padding: 0 0 0 0;\n",
              "      width: 32px;\n",
              "    }\n",
              "\n",
              "    .colab-df-convert:hover {\n",
              "      background-color: #E2EBFA;\n",
              "      box-shadow: 0px 1px 2px rgba(60, 64, 67, 0.3), 0px 1px 3px 1px rgba(60, 64, 67, 0.15);\n",
              "      fill: #174EA6;\n",
              "    }\n",
              "\n",
              "    .colab-df-buttons div {\n",
              "      margin-bottom: 4px;\n",
              "    }\n",
              "\n",
              "    [theme=dark] .colab-df-convert {\n",
              "      background-color: #3B4455;\n",
              "      fill: #D2E3FC;\n",
              "    }\n",
              "\n",
              "    [theme=dark] .colab-df-convert:hover {\n",
              "      background-color: #434B5C;\n",
              "      box-shadow: 0px 1px 3px 1px rgba(0, 0, 0, 0.15);\n",
              "      filter: drop-shadow(0px 1px 2px rgba(0, 0, 0, 0.3));\n",
              "      fill: #FFFFFF;\n",
              "    }\n",
              "  </style>\n",
              "\n",
              "    <script>\n",
              "      const buttonEl =\n",
              "        document.querySelector('#df-c52fdfa1-1b23-482d-a4dd-a25851c9ca3e button.colab-df-convert');\n",
              "      buttonEl.style.display =\n",
              "        google.colab.kernel.accessAllowed ? 'block' : 'none';\n",
              "\n",
              "      async function convertToInteractive(key) {\n",
              "        const element = document.querySelector('#df-c52fdfa1-1b23-482d-a4dd-a25851c9ca3e');\n",
              "        const dataTable =\n",
              "          await google.colab.kernel.invokeFunction('convertToInteractive',\n",
              "                                                    [key], {});\n",
              "        if (!dataTable) return;\n",
              "\n",
              "        const docLinkHtml = 'Like what you see? Visit the ' +\n",
              "          '<a target=\"_blank\" href=https://colab.research.google.com/notebooks/data_table.ipynb>data table notebook</a>'\n",
              "          + ' to learn more about interactive tables.';\n",
              "        element.innerHTML = '';\n",
              "        dataTable['output_type'] = 'display_data';\n",
              "        await google.colab.output.renderOutput(dataTable, element);\n",
              "        const docLink = document.createElement('div');\n",
              "        docLink.innerHTML = docLinkHtml;\n",
              "        element.appendChild(docLink);\n",
              "      }\n",
              "    </script>\n",
              "  </div>\n",
              "\n",
              "\n",
              "<div id=\"df-6980d383-bea2-4903-b583-caa8cb78ce7c\">\n",
              "  <button class=\"colab-df-quickchart\" onclick=\"quickchart('df-6980d383-bea2-4903-b583-caa8cb78ce7c')\"\n",
              "            title=\"Suggest charts\"\n",
              "            style=\"display:none;\">\n",
              "\n",
              "<svg xmlns=\"http://www.w3.org/2000/svg\" height=\"24px\"viewBox=\"0 0 24 24\"\n",
              "     width=\"24px\">\n",
              "    <g>\n",
              "        <path d=\"M19 3H5c-1.1 0-2 .9-2 2v14c0 1.1.9 2 2 2h14c1.1 0 2-.9 2-2V5c0-1.1-.9-2-2-2zM9 17H7v-7h2v7zm4 0h-2V7h2v10zm4 0h-2v-4h2v4z\"/>\n",
              "    </g>\n",
              "</svg>\n",
              "  </button>\n",
              "\n",
              "<style>\n",
              "  .colab-df-quickchart {\n",
              "      --bg-color: #E8F0FE;\n",
              "      --fill-color: #1967D2;\n",
              "      --hover-bg-color: #E2EBFA;\n",
              "      --hover-fill-color: #174EA6;\n",
              "      --disabled-fill-color: #AAA;\n",
              "      --disabled-bg-color: #DDD;\n",
              "  }\n",
              "\n",
              "  [theme=dark] .colab-df-quickchart {\n",
              "      --bg-color: #3B4455;\n",
              "      --fill-color: #D2E3FC;\n",
              "      --hover-bg-color: #434B5C;\n",
              "      --hover-fill-color: #FFFFFF;\n",
              "      --disabled-bg-color: #3B4455;\n",
              "      --disabled-fill-color: #666;\n",
              "  }\n",
              "\n",
              "  .colab-df-quickchart {\n",
              "    background-color: var(--bg-color);\n",
              "    border: none;\n",
              "    border-radius: 50%;\n",
              "    cursor: pointer;\n",
              "    display: none;\n",
              "    fill: var(--fill-color);\n",
              "    height: 32px;\n",
              "    padding: 0;\n",
              "    width: 32px;\n",
              "  }\n",
              "\n",
              "  .colab-df-quickchart:hover {\n",
              "    background-color: var(--hover-bg-color);\n",
              "    box-shadow: 0 1px 2px rgba(60, 64, 67, 0.3), 0 1px 3px 1px rgba(60, 64, 67, 0.15);\n",
              "    fill: var(--button-hover-fill-color);\n",
              "  }\n",
              "\n",
              "  .colab-df-quickchart-complete:disabled,\n",
              "  .colab-df-quickchart-complete:disabled:hover {\n",
              "    background-color: var(--disabled-bg-color);\n",
              "    fill: var(--disabled-fill-color);\n",
              "    box-shadow: none;\n",
              "  }\n",
              "\n",
              "  .colab-df-spinner {\n",
              "    border: 2px solid var(--fill-color);\n",
              "    border-color: transparent;\n",
              "    border-bottom-color: var(--fill-color);\n",
              "    animation:\n",
              "      spin 1s steps(1) infinite;\n",
              "  }\n",
              "\n",
              "  @keyframes spin {\n",
              "    0% {\n",
              "      border-color: transparent;\n",
              "      border-bottom-color: var(--fill-color);\n",
              "      border-left-color: var(--fill-color);\n",
              "    }\n",
              "    20% {\n",
              "      border-color: transparent;\n",
              "      border-left-color: var(--fill-color);\n",
              "      border-top-color: var(--fill-color);\n",
              "    }\n",
              "    30% {\n",
              "      border-color: transparent;\n",
              "      border-left-color: var(--fill-color);\n",
              "      border-top-color: var(--fill-color);\n",
              "      border-right-color: var(--fill-color);\n",
              "    }\n",
              "    40% {\n",
              "      border-color: transparent;\n",
              "      border-right-color: var(--fill-color);\n",
              "      border-top-color: var(--fill-color);\n",
              "    }\n",
              "    60% {\n",
              "      border-color: transparent;\n",
              "      border-right-color: var(--fill-color);\n",
              "    }\n",
              "    80% {\n",
              "      border-color: transparent;\n",
              "      border-right-color: var(--fill-color);\n",
              "      border-bottom-color: var(--fill-color);\n",
              "    }\n",
              "    90% {\n",
              "      border-color: transparent;\n",
              "      border-bottom-color: var(--fill-color);\n",
              "    }\n",
              "  }\n",
              "</style>\n",
              "\n",
              "  <script>\n",
              "    async function quickchart(key) {\n",
              "      const quickchartButtonEl =\n",
              "        document.querySelector('#' + key + ' button');\n",
              "      quickchartButtonEl.disabled = true;  // To prevent multiple clicks.\n",
              "      quickchartButtonEl.classList.add('colab-df-spinner');\n",
              "      try {\n",
              "        const charts = await google.colab.kernel.invokeFunction(\n",
              "            'suggestCharts', [key], {});\n",
              "      } catch (error) {\n",
              "        console.error('Error during call to suggestCharts:', error);\n",
              "      }\n",
              "      quickchartButtonEl.classList.remove('colab-df-spinner');\n",
              "      quickchartButtonEl.classList.add('colab-df-quickchart-complete');\n",
              "    }\n",
              "    (() => {\n",
              "      let quickchartButtonEl =\n",
              "        document.querySelector('#df-6980d383-bea2-4903-b583-caa8cb78ce7c button');\n",
              "      quickchartButtonEl.style.display =\n",
              "        google.colab.kernel.accessAllowed ? 'block' : 'none';\n",
              "    })();\n",
              "  </script>\n",
              "</div>\n",
              "    </div>\n",
              "  </div>\n"
            ],
            "application/vnd.google.colaboratory.intrinsic+json": {
              "type": "dataframe",
              "variable_name": "dataset"
            }
          },
          "metadata": {},
          "execution_count": 4
        }
      ],
      "source": [
        "dataset = pd.read_csv('/content/drive/MyDrive/salary_dataset.csv')\n",
        "dataset.head()"
      ]
    },
    {
      "cell_type": "markdown",
      "id": "62f7f530",
      "metadata": {
        "id": "62f7f530"
      },
      "source": [
        "Каждая строка содержит полное описание вакансии и соответствующую зарплату. При этом описания могут быть довольно длинными, например:"
      ]
    },
    {
      "cell_type": "code",
      "execution_count": null,
      "id": "7176a287",
      "metadata": {
        "id": "7176a287",
        "colab": {
          "base_uri": "https://localhost:8080/",
          "height": 125
        },
        "outputId": "4011ae72-61b4-404f-cfc6-88ce0b90416c"
      },
      "outputs": [
        {
          "output_type": "execute_result",
          "data": {
            "text/plain": [
              "'This is an exciting opportunity for a Recruiter to join a rapidly growing online retailer. You will be responsible for developing and executing recruiting plans across the company. Your key accountabilities will include creating job descriptions, working closely with hiring managers, reducing recruitment costs, coordinating and implementing university recruitment initiatives and networking with industry contacts. You should be of graduate calibre with a track record in recruitment ideally gained in a fast moving start up environment. Experience of working in an online company would be a distinct advantage. Our client is an online retailer operating in the UK and in Continental Europe. This job was originally posted as www.totaljobs.com/JobSeeking/RecruitmentManager_job****'"
            ],
            "application/vnd.google.colaboratory.intrinsic+json": {
              "type": "string"
            }
          },
          "metadata": {},
          "execution_count": 5
        }
      ],
      "source": [
        "dataset.iloc[0][\"FullDescription\"]"
      ]
    },
    {
      "cell_type": "markdown",
      "id": "da5b0061",
      "metadata": {
        "id": "da5b0061"
      },
      "source": [
        "Для данной задачи нам не будут нужны служебные части речи и знаки пунктуации. Зададим токенизатор, списки стоп-слов и пунктуации."
      ]
    },
    {
      "cell_type": "code",
      "execution_count": null,
      "id": "63fd6175",
      "metadata": {
        "id": "63fd6175"
      },
      "outputs": [],
      "source": [
        "# Зададим токенизаторы\n",
        "tokenizer = get_tokenizer(\"spacy\", language=\"en_core_web_sm\")\n",
        "stop_words = nltk.corpus.stopwords.words(\"english\")  # стоп-слова\n",
        "punc = list(punctuation)  # пунктуация"
      ]
    },
    {
      "cell_type": "markdown",
      "id": "34d7fa9a",
      "metadata": {
        "id": "34d7fa9a"
      },
      "source": [
        "Подготовьте словарь, оставив в нем только наиболее часто встречающиеся токены. Не забудьте предварительно убрать из предложений знаки пунктуации и стоп-слова.\n",
        "\n",
        "*Можно использовать код с [семинара](https://miptstats.github.io/courses/ad_fivt/nlp_sem.html).*"
      ]
    },
    {
      "cell_type": "code",
      "execution_count": null,
      "id": "a8185269",
      "metadata": {
        "id": "a8185269"
      },
      "outputs": [],
      "source": [
        "# зададим счетчики\n",
        "counter = Counter()\n",
        "\n",
        "# посчитаем количество вхождений каждого токена\n",
        "for text in dataset['FullDescription']:\n",
        "    counter.update(\n",
        "        token\n",
        "        for token in tokenizer(text)\n",
        "        if token not in stop_words and token not in punc\n",
        "    )\n",
        "\n",
        "ordered_dict = OrderedDict(counter)"
      ]
    },
    {
      "cell_type": "code",
      "source": [
        "MAX_VOCAB_SIZE = 25000  # ограничение на словарь\n",
        "ordered_dict = OrderedDict(counter.most_common(MAX_VOCAB_SIZE))"
      ],
      "metadata": {
        "id": "69eIIRRuw0d7"
      },
      "id": "69eIIRRuw0d7",
      "execution_count": null,
      "outputs": []
    },
    {
      "cell_type": "markdown",
      "id": "21506452",
      "metadata": {
        "id": "21506452"
      },
      "source": [
        "Этот упорядоченный словарь хранит слово и его встречаемость. Можно посмотреть на самые частые слова в датасете:"
      ]
    },
    {
      "cell_type": "code",
      "execution_count": null,
      "id": "1d305b88",
      "metadata": {
        "id": "1d305b88",
        "colab": {
          "base_uri": "https://localhost:8080/"
        },
        "outputId": "34738b5b-4bdb-4abb-cd0e-1fa5a82ae011"
      },
      "outputs": [
        {
          "output_type": "execute_result",
          "data": {
            "text/plain": [
              "[(' ', 666725),\n",
              " ('experience', 269289),\n",
              " ('The', 258645),\n",
              " ('role', 211475),\n",
              " ('work', 207318),\n",
              " ('team', 194087),\n",
              " ('This', 180149),\n",
              " ('within', 175173),\n",
              " ('You', 173743),\n",
              " ('skills', 162215)]"
            ]
          },
          "metadata": {},
          "execution_count": 9
        }
      ],
      "source": [
        "list(ordered_dict.items())[:10]"
      ]
    },
    {
      "cell_type": "markdown",
      "id": "4063d7b8",
      "metadata": {
        "id": "4063d7b8"
      },
      "source": [
        "Теперь изменим словарь, добавив в него специальные токены, которые необходимы для подготовки данных к обучению:"
      ]
    },
    {
      "cell_type": "code",
      "execution_count": null,
      "id": "4a63124e",
      "metadata": {
        "id": "4a63124e"
      },
      "outputs": [],
      "source": [
        "# зададим словарь\n",
        "vocab = torchtext.vocab.vocab(ordered_dict)\n",
        "\n",
        "unk_token = \"<unk>\"\n",
        "pad_token = \"<pad>\"\n",
        "\n",
        "\n",
        "def add_special_tokens(vocab):\n",
        "    \"\"\"Функция для добавления специальных токенов в словарь.\"\"\"\n",
        "    for special_token in [unk_token, pad_token]:\n",
        "        vocab.append_token(special_token)\n",
        "    vocab.set_default_index(vocab[unk_token])\n",
        "    UNK_IDX = vocab[unk_token]\n",
        "    PAD_IDX = vocab[pad_token]\n",
        "    return vocab, UNK_IDX, PAD_IDX\n",
        "\n",
        "\n",
        "vocab, UNK_IDX_EN, PAD_IDX_EN = add_special_tokens(vocab)\n",
        "num_tokens = len(vocab)"
      ]
    },
    {
      "cell_type": "markdown",
      "id": "91395e11",
      "metadata": {
        "id": "91395e11"
      },
      "source": [
        "Подготовим класс датасета:"
      ]
    },
    {
      "cell_type": "code",
      "execution_count": null,
      "id": "325a9927",
      "metadata": {
        "id": "325a9927"
      },
      "outputs": [],
      "source": [
        "class SalaryPredictionDataset(Dataset):\n",
        "    \"\"\"Класс датасета для предсказания зарплаты\"\"\"\n",
        "\n",
        "    def __init__(self, texts, target):\n",
        "        \"\"\"\n",
        "        Параметры.\n",
        "        1) texts (list) — корпус токенизированных текстов, на котором будет\n",
        "                          происходить обучение\n",
        "        2) labels (list) — истинные метки текстов\n",
        "        \"\"\"\n",
        "        self.texts = texts\n",
        "        self.target = target\n",
        "\n",
        "    def __len__(self):\n",
        "        return len(self.target)\n",
        "\n",
        "    def __getitem__(self, idx):\n",
        "        return self.texts[idx], self.target[idx]"
      ]
    },
    {
      "cell_type": "markdown",
      "id": "83f538a8",
      "metadata": {
        "id": "83f538a8"
      },
      "source": [
        "Допишите функцию для дополнения текста до максимальной длины в батче. Снова воспользуйтесь кодом с [семинара](https://miptstats.github.io/courses/ad_fivt/nlp_sem.html).\n",
        "\n",
        "*Обратите внимание, что теперь вместо целочисленных меток мы используем вещественные таргеты. Если не поменять код с семинара, то вы можете решать неправильную задачу.*"
      ]
    },
    {
      "cell_type": "code",
      "execution_count": null,
      "id": "e404b6a9",
      "metadata": {
        "id": "e404b6a9"
      },
      "outputs": [],
      "source": [
        "def pad_collate(batch):\n",
        "    \"\"\"\n",
        "    Формирует тензоры из токенизированных текстов и таргетов, а также\n",
        "    дополняет последовательности токенов до макс. длины в батче с UNK_IDX\n",
        "\n",
        "    Вход:\n",
        "    * batch — батч с текстами и таргетами\n",
        "\n",
        "    Возвращает:\n",
        "    * texts_tensors - список тензоров текстов из батча, дополненных паддингом\n",
        "    * target - список соответствующих меток батча\n",
        "    \"\"\"\n",
        "    texts, target = zip(*batch)\n",
        "\n",
        "    # сформируем тензоры\n",
        "    texts_tensors = [torch.LongTensor(t) for t in texts]\n",
        "    target = torch.FloatTensor(target)\n",
        "\n",
        "    # дополним до макс. длины в батче\n",
        "    texts_tensors = pad_sequence(\n",
        "        texts_tensors, padding_value=PAD_IDX_EN, batch_first=True\n",
        "    )\n",
        "\n",
        "    return texts_tensors, target"
      ]
    },
    {
      "cell_type": "markdown",
      "id": "cda48bb6",
      "metadata": {
        "id": "cda48bb6"
      },
      "source": [
        "Токенизируем текст, а таргет переведем во `float`."
      ]
    },
    {
      "cell_type": "code",
      "execution_count": null,
      "id": "5ff3711b",
      "metadata": {
        "id": "5ff3711b"
      },
      "outputs": [],
      "source": [
        "tokens = [vocab(tokenizer(text)) for text in dataset[\"FullDescription\"]]\n",
        "target = [float(value) for value in dataset[\"SalaryNormalized\"]]"
      ]
    },
    {
      "cell_type": "markdown",
      "id": "9cd8fb68",
      "metadata": {
        "id": "9cd8fb68"
      },
      "source": [
        "Каждому из текстов в датасете сопоставляется последовательность токенов, причем везде разного размера:"
      ]
    },
    {
      "cell_type": "code",
      "execution_count": null,
      "id": "f5bf13aa",
      "metadata": {
        "id": "f5bf13aa",
        "colab": {
          "base_uri": "https://localhost:8080/"
        },
        "outputId": "e3b47924-d099-446b-8bae-b7a37a72f0a0"
      },
      "outputs": [
        {
          "output_type": "stream",
          "name": "stdout",
          "text": [
            "Количество токенов в 0-м тексте - 122:\n",
            "  6, 25000, 25000, 141, 18, 25000, 25000, 3605, 25000, 35, ...\n",
            "Таргет: 55000.0 \n",
            "\n",
            "Количество токенов в 1-м тексте - 73:\n",
            "  67, 12, 25000, 14, 25000, 25000, 4674, 393, 871, 25000, ...\n",
            "Таргет: 27500.0 \n",
            "\n",
            "Количество токенов в 2-м тексте - 309:\n",
            "  573, 186, 1517, 658, 0, 24450, 25000, 15730, 13311, 87, ...\n",
            "Таргет: 72098.0 \n",
            "\n"
          ]
        }
      ],
      "source": [
        "for i in range(3):\n",
        "    print(f\"Количество токенов в {i}-м тексте - {len(tokens[i])}:\\n  \", end=\"\")\n",
        "    for token in tokens[i][:10]:\n",
        "        print(token, end=\", \")\n",
        "    print(\"...\\nТаргет:\", target[i], \"\\n\")"
      ]
    },
    {
      "cell_type": "markdown",
      "id": "dc98e576",
      "metadata": {
        "id": "dc98e576"
      },
      "source": [
        "При решении задач регрессии с помощью нейросетей удобнее всего бывает перевести предсказываемые значения в небольшой диапазон, например, от 0 до 1. Это нужно, чтобы повысить численную стабильность обучения &mdash; не нагружать модель большими значениями таргетов. В нашей задаче это важно, ведь зарплата может иметь большой разброс и принимать большие значения.\n",
        "\n",
        "Чтобы сделать это, воспользуемся преобразованием `MinMaxScaler` из библиотеки `sklearn`, которое мы рассматривали в [задаче 3 задания 3](https://miptstats.github.io/courses/ad_fivt/task3.html#%D0%97%D0%B0%D0%B4%D0%B0%D1%87%D0%B0-3.).\n",
        "Таким образом, мы получим значения, удобные для использования при обучении."
      ]
    },
    {
      "cell_type": "code",
      "execution_count": null,
      "id": "6e66978f",
      "metadata": {
        "id": "6e66978f",
        "colab": {
          "base_uri": "https://localhost:8080/"
        },
        "outputId": "3660b0ca-2ace-4ecc-e97a-1855b6dc8272"
      },
      "outputs": [
        {
          "output_type": "execute_result",
          "data": {
            "text/plain": [
              "(112500, 37500, 50000)"
            ]
          },
          "metadata": {},
          "execution_count": 15
        }
      ],
      "source": [
        "part_tokens, test_tokens, part_target, test_target = train_test_split(\n",
        "    tokens, target, random_state=300\n",
        ")\n",
        "\n",
        "\n",
        "train_tokens, valid_tokens, train_target, valid_target = train_test_split(\n",
        "    part_tokens, part_target, random_state=300\n",
        ")\n",
        "\n",
        "scaler = MinMaxScaler()\n",
        "train_target_std = scaler.fit_transform(np.array(train_target).reshape(-1, 1))\n",
        "valid_target_std = scaler.transform(np.array(valid_target).reshape(-1, 1))\n",
        "test_target_std = scaler.transform(np.array(test_target).reshape(-1, 1))\n",
        "\n",
        "train_data = SalaryPredictionDataset(train_tokens, train_target_std)\n",
        "valid_data = SalaryPredictionDataset(valid_tokens, valid_target_std)\n",
        "test_data = SalaryPredictionDataset(test_tokens, test_target_std)\n",
        "\n",
        "len(train_data), len(valid_data), len(test_data)"
      ]
    },
    {
      "cell_type": "markdown",
      "id": "c90113da",
      "metadata": {
        "id": "c90113da"
      },
      "source": [
        "Посмотрим на отмасштабированные значения зарплаты:"
      ]
    },
    {
      "cell_type": "code",
      "execution_count": null,
      "id": "c40d3904",
      "metadata": {
        "id": "c40d3904",
        "colab": {
          "base_uri": "https://localhost:8080/"
        },
        "outputId": "535cbb86-3a1c-4a0a-b7ba-1af368ecea51"
      },
      "outputs": [
        {
          "output_type": "stream",
          "name": "stdout",
          "text": [
            "Преобразованные таргеты:\n",
            "0.1103, 0.2308, 0.1744, ...\n"
          ]
        }
      ],
      "source": [
        "print(\"Преобразованные таргеты:\")\n",
        "for t in train_data[:3][1]:\n",
        "    print(round(t.item(), 4), end=\", \")\n",
        "print(\"...\")"
      ]
    },
    {
      "cell_type": "markdown",
      "id": "6ef5e780",
      "metadata": {
        "id": "6ef5e780"
      },
      "source": [
        "Сформируйте даталоадеры для обучения и валидации и тестирования."
      ]
    },
    {
      "cell_type": "code",
      "execution_count": null,
      "id": "a42bd036",
      "metadata": {
        "id": "a42bd036"
      },
      "outputs": [],
      "source": [
        "BATCH_SIZE = 64  # размер батча\n",
        "\n",
        "# сформируем даталоадеры\n",
        "train_loader = DataLoader(\n",
        "    train_data, batch_size=BATCH_SIZE, shuffle=True, collate_fn=pad_collate\n",
        ")\n",
        "\n",
        "valid_loader = DataLoader(\n",
        "    valid_data, batch_size=BATCH_SIZE, shuffle=False, collate_fn=pad_collate\n",
        ")\n",
        "\n",
        "test_loader = DataLoader(\n",
        "    test_data, batch_size=BATCH_SIZE, shuffle=False, collate_fn=pad_collate\n",
        ")"
      ]
    },
    {
      "cell_type": "markdown",
      "id": "6aeb78e0",
      "metadata": {
        "id": "6aeb78e0"
      },
      "source": [
        "Наконец, можем подготовить модель. Будем использовать рекуррентную архитектуру, подобную той, что была на [семинаре](https://miptstats.github.io/courses/ad_fivt/nlp_sem.ipynb).\n",
        "Отличие состоит в том, что теперь мы предсказываем не метку класса, а вещественный таргет. Подумайте, какую часть сети нужно изменить, чтобы адаптировать ее к нашей задаче."
      ]
    },
    {
      "cell_type": "code",
      "execution_count": null,
      "id": "bfcd2f4a",
      "metadata": {
        "id": "bfcd2f4a"
      },
      "outputs": [],
      "source": [
        "class SimpleRNNRegressor(nn.Module):\n",
        "    \"\"\" Модель для регрессии на основе LSTM\"\"\"\n",
        "\n",
        "    def __init__(\n",
        "        self,\n",
        "        num_tokens,\n",
        "        emb_size=512,\n",
        "        rnn_num_units=64,\n",
        "        output_dim=1\n",
        "    ):\n",
        "        \"\"\"\n",
        "        1) num_tokens — общее количество токенов,\n",
        "        2) emb_size — размер эмбеддингового пространства,\n",
        "        3) rnn_num_units - размер пространства скрытых представлений в rnn,\n",
        "        4) output_dim - размерность выхода-предсказания.\n",
        "        \"\"\"\n",
        "        super(self.__class__, self).__init__()\n",
        "\n",
        "        self.emb = nn.Embedding(num_tokens, emb_size, padding_idx=PAD_IDX_EN)\n",
        "        self.rnn = nn.LSTM(emb_size, rnn_num_units, batch_first=True)\n",
        "        self.classifier = nn.Linear(rnn_num_units, output_dim)\n",
        "\n",
        "    def forward(self, x):\n",
        "        # x.shape = (batch_size, max_pad_len)\n",
        "\n",
        "        # Получим эмбеддинги для входов\n",
        "        # (batch_size, max_pad_len, emb_size)\n",
        "        emb = self.emb(x)\n",
        "\n",
        "        # Прогоним через RNN-сеть и получим скрытое состояние,\n",
        "        # в котором хранится нужная информация о последовательности\n",
        "        # (batch_size, rnn_num_units)\n",
        "        _, (h_state, _) = self.rnn(emb)\n",
        "        \"\"\"\n",
        "        * x — общее количество токенов.\n",
        "\n",
        "        Возвращает:\n",
        "        * predictions - предсказания модели.\n",
        "        \"\"\"\n",
        "        predictions = self.classifier(h_state)\n",
        "        return predictions"
      ]
    },
    {
      "cell_type": "markdown",
      "source": [],
      "metadata": {
        "id": "Z-AkzVIljd7G"
      },
      "id": "Z-AkzVIljd7G"
    },
    {
      "cell_type": "markdown",
      "id": "35d59151",
      "metadata": {
        "id": "35d59151"
      },
      "source": [
        "Так как теперь решаем задачу регрессии, вместо точности модели будем измерять среднеквадратичную ошибку:"
      ]
    },
    {
      "cell_type": "code",
      "execution_count": null,
      "id": "bbc77abf",
      "metadata": {
        "id": "bbc77abf"
      },
      "outputs": [],
      "source": [
        "def mse(preds, y):\n",
        "    \"\"\"\n",
        "    Возвращает среднеквадратичную ошибку модели.\n",
        "\n",
        "    Параметры.\n",
        "    1) preds — предсказания модели,\n",
        "    2) y — истинные значения таргета.\n",
        "    \"\"\"\n",
        "\n",
        "    return F.mse_loss(preds, y, reduction=\"mean\")"
      ]
    },
    {
      "cell_type": "markdown",
      "id": "0f5c892f",
      "metadata": {
        "id": "0f5c892f"
      },
      "source": [
        "Допишите функции для обучения и валидации. Они почти не будут отличаться от тех, что были на [семинаре](https://miptstats.github.io/courses/ad_fivt/nlp_sem.html)."
      ]
    },
    {
      "cell_type": "code",
      "execution_count": null,
      "id": "45f14b1d",
      "metadata": {
        "id": "45f14b1d"
      },
      "outputs": [],
      "source": [
        "def train(model, iterator, optimizer, criterion, train_loss_history):\n",
        "    \"\"\"\n",
        "    Функция для обучения модели на обучающем датасете и подсчёта\n",
        "    её ошибки.\n",
        "\n",
        "    Параметры.\n",
        "    1) model — модель,\n",
        "    2) iterator — итератор обучающего датасета,\n",
        "    3) optimizer — класс метода оптимизации,\n",
        "    4) criterion — функция потерь.\n",
        "    \"\"\"\n",
        "\n",
        "    epoch_loss = 0\n",
        "    epoch_mse = 0\n",
        "    model.train()\n",
        "\n",
        "    # Проход по всему датасету\n",
        "    for batch_id, batch in enumerate(iterator):\n",
        "        # Обучение на 1 батче, подсчет метрики\n",
        "        # чтобы градиент не накапливался, его нужно обнулить\n",
        "        optimizer.zero_grad()\n",
        "        # получим предсказания модели\n",
        "        texts, labels = batch\n",
        "        texts, labels = texts.to(device), labels.to(device)\n",
        "        predictions = model(texts).squeeze(0)\n",
        "        loss = criterion(predictions, labels.float())\n",
        "        mse_val = mse(predictions, labels)\n",
        "\n",
        "        # сделаем back-propagation для подсчёта градиентов\n",
        "        loss.backward()\n",
        "        # выполним шаг оптимизатора\n",
        "        optimizer.step()\n",
        "        # обновим метрики\n",
        "        epoch_loss += loss.item()\n",
        "        epoch_mse += mse_val.item()\n",
        "        train_loss_history.append(loss.item())\n",
        "\n",
        "    return epoch_loss / len(iterator), epoch_mse / len(iterator)\n",
        "\n",
        "\n",
        "def evaluate(model, iterator, criterion, val_loss_history=None):\n",
        "    \"\"\"\n",
        "    Функция для применения модели на валидационном/тестовом датасете и подсчёта\n",
        "    её точности.\n",
        "\n",
        "    Параметры.\n",
        "    1) model — модель,\n",
        "    2) iterator — итератор датасета,\n",
        "    3) criterion — функция потерь.\n",
        "    \"\"\"\n",
        "\n",
        "    epoch_loss = 0\n",
        "    epoch_mse = 0\n",
        "\n",
        "    model.eval()\n",
        "\n",
        "    with torch.no_grad(): # отключим подсчёт градиентов на валидации\n",
        "        # Проход по всему датасету\n",
        "        for batch_id, batch in enumerate(iterator):\n",
        "            # Обучение на 1 батче, подсчет метрики\n",
        "            texts, labels = batch\n",
        "            texts, labels = texts.to(device), labels.to(device)\n",
        "            # получим предсказания\n",
        "            predictions = model(texts).squeeze(0)\n",
        "            # посчитаем метрики\n",
        "            loss = criterion(predictions, labels.float())\n",
        "            mse_val = mse(predictions, labels)\n",
        "            # обновим метрики\n",
        "            epoch_loss += loss.item()\n",
        "            epoch_mse += mse_val.item()\n",
        "            if val_loss_history is not None:\n",
        "                val_loss_history.append(loss.item())\n",
        "\n",
        "    return epoch_loss / len(iterator), epoch_mse / len(iterator)\n",
        "\n",
        "\n",
        "def epoch_time(start_time, end_time):\n",
        "    \"\"\"\n",
        "    Функция для подсчёта времени работы одной эпохи.\n",
        "\n",
        "    Параметры.\n",
        "    1) start_time — время начала запуска,\n",
        "    2) end_time — время завершения работы эпохи.\n",
        "    \"\"\"\n",
        "\n",
        "    elapsed_time = end_time - start_time\n",
        "    elapsed_mins = int(elapsed_time / 60)\n",
        "    elapsed_secs = int(elapsed_time - (elapsed_mins * 60))\n",
        "    return elapsed_mins, elapsed_secs"
      ]
    },
    {
      "cell_type": "markdown",
      "id": "c46419e8",
      "metadata": {
        "id": "c46419e8"
      },
      "source": [
        "Теперь определим итоговую функцию для всего цикла обучения:"
      ]
    },
    {
      "cell_type": "code",
      "execution_count": null,
      "id": "e4fa0a52",
      "metadata": {
        "id": "e4fa0a52"
      },
      "outputs": [],
      "source": [
        "def visualize_epoch(epoch, start_time, loss_history, mse_history):\n",
        "    \"\"\"\n",
        "    Функция для визуализации 1 эпохи.\n",
        "\n",
        "    Параметры.\n",
        "    1) epoch — номер эпохи,\n",
        "    2) start_time — время начала эпохи,\n",
        "    3) loss_history - tuple истории лосса на train и test,\n",
        "    4) mse_history - tuple истории MSE на train и test.\n",
        "    \"\"\"\n",
        "    # Посчитаем время работы одной эпохи\n",
        "    end_time = time.time()\n",
        "    epoch_mins, epoch_secs = epoch_time(start_time, end_time)\n",
        "\n",
        "    # Отобразим графики лоссов\n",
        "    clear_output(True)\n",
        "    plt.figure(figsize=(18, 6))\n",
        "\n",
        "    train_loss_history, val_loss_history = loss_history\n",
        "    plt.subplot(1, 3, 1)\n",
        "    plt.plot(train_loss_history)\n",
        "    plt.title(\"Train Loss\")\n",
        "    plt.xlabel(\"Номер батча\")\n",
        "    plt.subplot(1, 3, 2)\n",
        "    plt.plot(val_loss_history, color=\"tab:orange\")\n",
        "    plt.title(\"Valid Loss\")\n",
        "    plt.xlabel(\"Номер батча\")\n",
        "\n",
        "    # Отрисуем значение MSE от эпохи\n",
        "    train_mse_history, val_mse_history = mse_history\n",
        "    plt.subplot(1, 3, 3)\n",
        "    plt.plot(train_mse_history, label=\"Train\")\n",
        "    plt.plot(val_mse_history, label=\"Valid\")\n",
        "    plt.legend()\n",
        "    plt.title(\"MSE\")\n",
        "    plt.xlabel(\"Номер эпохи\")\n",
        "    plt.show()\n",
        "\n",
        "    print(\n",
        "        f\"Номер эпохи: {epoch+1:02} | Время обучения эпохи: {epoch_mins}m {epoch_secs}s\"\n",
        "    )\n",
        "\n",
        "\n",
        "def training_loop(model_instance, n_epochs=10):\n",
        "    \"\"\"\n",
        "    Функция для обучения нейронной сети.\n",
        "\n",
        "    Параметры.\n",
        "    1) model_instance — обучаемая модель,\n",
        "    2) n_epochs — количество эпох.\n",
        "    \"\"\"\n",
        "\n",
        "    best_valid_loss = float(\"inf\")\n",
        "    train_loss_history = []\n",
        "    val_loss_history = []\n",
        "    train_mse_history = []\n",
        "    val_mse_history = []\n",
        "\n",
        "    for epoch in range(n_epochs):\n",
        "        start_time = time.time()\n",
        "        # Обучим одну эпоху на обучающем датасете\n",
        "        train_loss, train_mse = train(\n",
        "            model_instance,\n",
        "            train_loader,\n",
        "            optimizer,\n",
        "            criterion,\n",
        "            train_loss_history,\n",
        "        )\n",
        "        train_mse_history.append(train_mse)\n",
        "\n",
        "        # Оценим ошибку модели на тестовом датасете\n",
        "        valid_loss, valid_mse = evaluate(\n",
        "            model_instance, valid_loader, criterion, val_loss_history\n",
        "        )\n",
        "        val_mse_history.append(valid_mse)\n",
        "\n",
        "        # Если значение функции потерь улучшилось, сохраним параметры модели\n",
        "        if valid_loss < best_valid_loss:\n",
        "            best_valid_loss = valid_loss\n",
        "            torch.save(model_instance.state_dict(), \"model_checkpoint.pt\")\n",
        "\n",
        "        # Визуализируем результаты эпохи\n",
        "        visualize_epoch(\n",
        "            epoch,\n",
        "            start_time,\n",
        "            (train_loss_history, val_loss_history),\n",
        "            (train_mse_history, val_mse_history),\n",
        "        )"
      ]
    },
    {
      "cell_type": "markdown",
      "source": [
        "Модель1 - словарь из 25000 слов, rnn_num_units=64, lr=0.005"
      ],
      "metadata": {
        "id": "75WqM3cS--Um"
      },
      "id": "75WqM3cS--Um"
    },
    {
      "cell_type": "code",
      "execution_count": null,
      "id": "089f4846",
      "metadata": {
        "id": "089f4846",
        "colab": {
          "base_uri": "https://localhost:8080/"
        },
        "outputId": "a94897ef-caa2-406a-d0fa-4e42edfddd0a"
      },
      "outputs": [
        {
          "output_type": "execute_result",
          "data": {
            "text/plain": [
              "SimpleRNNRegressor(\n",
              "  (emb): Embedding(25002, 100, padding_idx=25001)\n",
              "  (rnn): LSTM(100, 64, batch_first=True)\n",
              "  (classifier): Linear(in_features=64, out_features=1, bias=True)\n",
              ")"
            ]
          },
          "metadata": {},
          "execution_count": 22
        }
      ],
      "source": [
        "#зададим модель1\n",
        "model1 = SimpleRNNRegressor(\n",
        "    num_tokens=num_tokens,\n",
        "    emb_size=100,\n",
        "    rnn_num_units=64,\n",
        "    output_dim=1,\n",
        ").to(device)\n",
        "\n",
        "\n",
        "# У нас задача регрессии, будем использовать MSELoss\n",
        "criterion = nn.MSELoss()\n",
        "optimizer = torch.optim.Adam(model1.parameters(), lr=0.005)\n",
        "history = []\n",
        "\n",
        "# Посмотрите на получившуюся модель\n",
        "model1"
      ]
    },
    {
      "cell_type": "code",
      "source": [
        "#обучим нейросеть\n",
        "training_loop(model1, 30)"
      ],
      "metadata": {
        "colab": {
          "base_uri": "https://localhost:8080/",
          "height": 534
        },
        "id": "V4lzoEXGBUon",
        "outputId": "4064e8be-de67-4cc7-b66c-40ffb17e3579"
      },
      "id": "V4lzoEXGBUon",
      "execution_count": null,
      "outputs": [
        {
          "output_type": "display_data",
          "data": {
            "text/plain": [
              "<Figure size 1800x600 with 3 Axes>"
            ],
            "image/png": "[encoded data removed]"
          },
          "metadata": {}
        },
        {
          "output_type": "stream",
          "name": "stdout",
          "text": [
            "Номер эпохи: 30 | Время обучения эпохи: 0m 22s\n"
          ]
        }
      ]
    },
    {
      "cell_type": "markdown",
      "id": "38572121",
      "metadata": {
        "id": "38572121"
      },
      "source": [
        "Обучите несколько моделей с различными гиперпараметрами (например, шаг обучения, размер словаря, архитектура) и сравните их качество на тестовой выборке.\n",
        "\n",
        "*Не пугайтесь, если у вас не будет получаться хорошее качество на валидации: решаемая задача довольно сложная, а RNN &mdash; достаточно простая архитектура. Но постарайтесь, чтобы модель хотя бы не вырождалась в константу. Для этого следите за переобучением!*\n",
        "\n",
        "*На 3 курсе вы сможете познакомиться с моделями, которые решают такую задачу гораздо лучше.*"
      ]
    },
    {
      "cell_type": "markdown",
      "id": "fea35795",
      "metadata": {
        "id": "fea35795"
      },
      "source": [
        "Выведите несколько примеров работы на тестовой выборке: текст вакансии, предсказание вашей модели и истинное значение зарплаты. Чтобы вернуть все значения к изначальным масштабам, используйте `scaler.inverse_transform(...)`. Также посчитайте MSE на всей тестовой выборке."
      ]
    },
    {
      "cell_type": "code",
      "execution_count": null,
      "id": "9d955871",
      "metadata": {
        "id": "9d955871"
      },
      "outputs": [],
      "source": [
        "data_batch, real_wages_batch = next(iter(test_loader))\n",
        "\n",
        "# Применяем модель, получаем предсказания\n",
        "with torch.no_grad():\n",
        "    preds = model1(data_batch.to(device))"
      ]
    },
    {
      "cell_type": "code",
      "source": [
        "# Выведем предсказания для 5 случайных примеров из тестового батча\n",
        "indices = torch.randint(low=0, high=len(data_batch), size=(5,))\n",
        "preds_okay = scaler.inverse_transform(preds[0].cpu().numpy())\n",
        "real_wages_okay = scaler.inverse_transform(real_wages_batch.numpy())\n",
        "for idx in indices:\n",
        "    print(\"=\" * 20)\n",
        "    print(\"Text:\")\n",
        "    text = \" \".join(\n",
        "        [\n",
        "            token\n",
        "            for token in vocab.lookup_tokens(data_batch[idx].tolist())\n",
        "            if token not in [\"<unk>\", \"<pad>\"]\n",
        "        ]\n",
        "    )\n",
        "    print(text)\n",
        "    print(f\"Predicted wage: {preds_okay[idx][0]}\")\n",
        "    print(f\"True wage: {real_wages_okay[idx].item()}\")\n",
        "    print()"
      ],
      "metadata": {
        "colab": {
          "base_uri": "https://localhost:8080/"
        },
        "id": "7mW2r1tNg7FU",
        "outputId": "4bb36e3b-5780-4b84-f935-47cc9e1cbfc0"
      },
      "id": "7mW2r1tNg7FU",
      "execution_count": null,
      "outputs": [
        {
          "output_type": "stream",
          "name": "stdout",
          "text": [
            "====================\n",
            "Text:\n",
            "Our client beautiful Care Home Exeter looking recruit Home Manager join caring team You minimum two years experience management level ideally NVQ RMA essential relevant experience Your responsibilities include Leading managing staff ensure quality services continuously improve Maintaining excellent relationships residents staff Ensuring residents receive highest standards care service Additionally oversee manage financial aspects running home agreeing targets effectively managing costs whilst proactively marketing home maintaining high occupancy You responsible recruitment selection induction retention staff ensure deputy person charge manage home effectively absence This superb opportunity work forward thinking highly respected healthcare group Immediate interviews offered\n",
            "Predicted wage: 22051.751953125\n",
            "True wage: 30000.001953125\n",
            "\n",
            "====================\n",
            "Text:\n",
            "My Client one Leading ME Maintenance companies UK turning excess Having yet another contract looking experienced Fabric Supervisor cover number sites Newquay Bodmin Truro The main accountabilities   To undertake manage fabric reactive works issued help desk within set time frames customer expectations met   To actively undertake fabric proactive maintenance works reactive works yet identified client identified site   To undertake fabric PPM works issued help desk within set time frames customer expectations met To undertake new installations major minor fabric repair works attend breakdown ’s required   and/or building fabric requested client To complete breakdowns plumbing minor joinery tiling painting plastering required   To provide call response client detailed call rota Additional responsibilities   To work part engineering team providing twentyfour seven call part rota   To undertake contractor control duties behalf client including monitoring contractors workmanship relevant standards met   To take ownership accountability designated number sites ensuring site log books standards kept high standard   To ensure equipment surrounding area conform agreed company standards   To provide professional service represent company way ensures customer satisfaction   To fully aware contractual requirements customer needs times   To evaluate performance ensure proper servicing maintenance equipment contract company carried   To take proactive approach client liaison ensure concerns dealt relayed management necessary   To ensure administration requirements actioned time necessary documents records maintained accurately Requirements   The successful applicant need background building services NVQ Qualification equivalent joinery plumbing general building fabric skills required   Experience supervisory leadership role Please forward CV This job originally posted\n",
            "Predicted wage: 26249.208984375\n",
            "True wage: 27000.001953125\n",
            "\n",
            "====================\n",
            "Text:\n",
            "A leading nationwide fashion retailer highstreet presence looking recruit Retail Financial Analyst assist commercial team help identify business KPI 's assist business performance management Reporting Manager responsibilities involve Timely reporting trading KPI ’s payroll preparation Regional Controller Packs Reviews Area Managers Regional Controllers discuss planning issues identify risks opportunities Preparation branch branch plans – including planning payroll costs margin Involvement stages branch planning Post investment appraisal analysis Ideal candidates opportunity work closely senior management well nonfinancial managers ability communicate senior stakeholders must presenting financial information nonfinancial managers Ideally also studying towards recognised accountancy qualification numerate business degree\n",
            "Predicted wage: 27938.509765625\n",
            "True wage: 31500.001953125\n",
            "\n",
            "====================\n",
            "Text:\n",
            "We looking C++ Software Engineers join team developing simulations video related hardware C++ Working part team following responsibilities   To involved full life cycle development simulators existing future hardware   To propose drive implementation improvements products   To work internal customers debug resolve specific issues   To design add support new features simulators   To give technical guidance team members Both roles require strong C++ problem solving skills For senior software engineer role k experience video codecs either technical lead team leading experience required junior role requirements flexible An excellent benefits package offer including Relocation assistance Contributory pension private medical life assurance lucrative share options illness insurance health club sports club   Position C++ Software Engineer C++ Technical Team Leader Location Hertfordshire Salary k Benefits Relocation assistance Contributory pension private medical life assurance lucrative share options illness insurance health club sports club Key Skills C++ problem solving Desirable skills video codecs team leading video compression standards e.g. MPEG Apply AT enterpriserecruitment DOT com   If don`t fit requirement exactly interested type work feel free email CV may suitable C++ software engineer positions recruiting I specialise recruiting software engineers electronics technology companies throughout UK This job originally posted\n",
            "Predicted wage: 48978.953125\n",
            "True wage: 40000.0\n",
            "\n",
            "====================\n",
            "Text:\n",
            "Tier Global Management Consulting Firm seeks Risk Consultant join expanding team responsible handling risk projects top tier Banking Institutional clients You work closely top management key clients Management Consulting Risk Consultant Location Singapore Key responsibilities Risk Consultant   Take consultative role work key risk projects internal parties major clients You take different projects expand risk knowledge   Projects may include Liquidity Risk Risk Framework Credit Risk Counterparty Credit Risk Market Risk   Be responsible implementation designing solution finance risk governance organizational structures   Work closely research team clients design risk frameworks EC VaR suits clients requirements Key Requirements Management Consulting Risk Consultant   8 years relevant Risk experience Banking Management consulting industry In depth knowledge Risk organization governance Good knowledge banking regulations compliance Basel matters Advanced credit risk measurement management going beyond Basel Risk based pricing value based management concepts Solid understanding Treasury balance sheet management incl interest rate risk ALM risk transfer VaR economic capital concepts incl risk aggregation allocation concepts Advanced credit risk measurement management going beyond Basel   Ability apply depth content knowledge thought leadership project execution Ability work team strong communication skills\n",
            "Predicted wage: 62009.84765625\n",
            "True wage: 62499.00390625\n",
            "\n"
          ]
        }
      ]
    },
    {
      "cell_type": "markdown",
      "source": [
        "Выведем 2 mse: в уже приведенных значениях зарплаты (от 0 до 1) и в изначальных."
      ],
      "metadata": {
        "id": "Mq6b1Y6r_Wyp"
      },
      "id": "Mq6b1Y6r_Wyp"
    },
    {
      "cell_type": "code",
      "source": [
        "#в уже приведенных значениях зарплаты\n",
        "mse_model = mse(preds[0].cpu(), real_wages_batch)\n",
        "mse_model.item()"
      ],
      "metadata": {
        "id": "22vogKPRWKPs",
        "colab": {
          "base_uri": "https://localhost:8080/"
        },
        "outputId": "2fde90c3-47d0-4381-bcfc-e96ed439ab60"
      },
      "id": "22vogKPRWKPs",
      "execution_count": null,
      "outputs": [
        {
          "output_type": "execute_result",
          "data": {
            "text/plain": [
              "0.004052385687828064"
            ]
          },
          "metadata": {},
          "execution_count": 26
        }
      ]
    },
    {
      "cell_type": "code",
      "source": [
        "#в изначальных значениях зарплаты\n",
        "mse_model_original = mse(torch.tensor(preds_okay), torch.tensor(real_wages_okay))\n",
        "mse_model_original.item()"
      ],
      "metadata": {
        "id": "kHz7tmXk8beA",
        "colab": {
          "base_uri": "https://localhost:8080/"
        },
        "outputId": "9a1742a3-9862-48c3-e3bc-7034037b6f95"
      },
      "id": "kHz7tmXk8beA",
      "execution_count": null,
      "outputs": [
        {
          "output_type": "execute_result",
          "data": {
            "text/plain": [
              "154091968.0"
            ]
          },
          "metadata": {},
          "execution_count": 27
        }
      ]
    },
    {
      "cell_type": "markdown",
      "id": "92a23329",
      "metadata": {
        "id": "92a23329"
      },
      "source": [
        "**Вывод:** Модели с другими параметрами, а также их сравнительный анализ в следующем ноутбуке."
      ]
    },
    {
      "cell_type": "code",
      "source": [],
      "metadata": {
        "id": "CegyPUsh89oS"
      },
      "id": "CegyPUsh89oS",
      "execution_count": null,
      "outputs": []
    }
  ],
  "metadata": {
    "colab": {
      "provenance": [],
      "gpuType": "T4"
    },
    "hide_input": false,
    "kernelspec": {
      "display_name": "Python 3",
      "name": "python3"
    },
    "language_info": {
      "codemirror_mode": {
        "name": "ipython",
        "version": 3
      },
      "file_extension": ".py",
      "mimetype": "text/x-python",
      "name": "python",
      "nbconvert_exporter": "python",
      "pygments_lexer": "ipython3",
      "version": "3.11.6"
    },
    "accelerator": "GPU"
  },
  "nbformat": 4,
  "nbformat_minor": 5
}